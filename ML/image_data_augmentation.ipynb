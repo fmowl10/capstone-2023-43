{
 "cells": [
  {
   "cell_type": "code",
   "execution_count": 1,
   "id": "19a9a521",
   "metadata": {},
   "outputs": [
    {
     "name": "stdout",
     "output_type": "stream",
     "text": [
      "Collecting rembg[gpu]\n",
      "  Downloading rembg-2.0.37-py3-none-any.whl (23 kB)\n",
      "Collecting pymatting>=1.1.8\n",
      "  Downloading PyMatting-1.1.8-py3-none-any.whl (47 kB)\n",
      "     ---------------------------------------- 47.7/47.7 kB 2.3 MB/s eta 0:00:00\n",
      "Collecting filetype>=1.2.0\n",
      "  Downloading filetype-1.2.0-py2.py3-none-any.whl (19 kB)\n",
      "Collecting imagehash>=4.3.1\n",
      "  Downloading ImageHash-4.3.1-py2.py3-none-any.whl (296 kB)\n",
      "     -------------------------------------- 296.5/296.5 kB 9.2 MB/s eta 0:00:00\n",
      "Collecting opencv-python-headless>=4.6.0.66\n",
      "  Downloading opencv_python_headless-4.7.0.72-cp37-abi3-win_amd64.whl (38.1 MB)\n",
      "     ---------------------------------------- 38.1/38.1 MB 9.9 MB/s eta 0:00:00\n",
      "Requirement already satisfied: pillow>=9.3.0 in c:\\users\\kimjeaha\\anaconda3\\lib\\site-packages (from rembg[gpu]) (9.4.0)\n",
      "Collecting pooch>=1.6.0\n",
      "  Downloading pooch-1.7.0-py3-none-any.whl (60 kB)\n",
      "     ---------------------------------------- 60.9/60.9 kB 3.2 MB/s eta 0:00:00\n",
      "Collecting fastapi>=0.92.0\n",
      "  Downloading fastapi-0.95.2-py3-none-any.whl (56 kB)\n",
      "     ---------------------------------------- 57.0/57.0 kB 2.9 MB/s eta 0:00:00\n",
      "Collecting onnxruntime>=1.14.1\n",
      "  Downloading onnxruntime-1.14.1-cp310-cp310-win_amd64.whl (6.5 MB)\n",
      "     ---------------------------------------- 6.5/6.5 MB 10.9 MB/s eta 0:00:00\n",
      "Requirement already satisfied: numpy>=1.23.5 in c:\\users\\kimjeaha\\anaconda3\\lib\\site-packages (from rembg[gpu]) (1.23.5)\n",
      "Collecting python-multipart>=0.0.5\n",
      "  Using cached python_multipart-0.0.6-py3-none-any.whl (45 kB)\n",
      "Collecting aiohttp>=3.8.1\n",
      "  Using cached aiohttp-3.8.4-cp310-cp310-win_amd64.whl (319 kB)\n",
      "Requirement already satisfied: scikit-image>=0.19.3 in c:\\users\\kimjeaha\\anaconda3\\lib\\site-packages (from rembg[gpu]) (0.19.3)\n",
      "Collecting asyncer>=0.0.2\n",
      "  Downloading asyncer-0.0.2-py3-none-any.whl (8.3 kB)\n",
      "Requirement already satisfied: scipy>=1.9.3 in c:\\users\\kimjeaha\\anaconda3\\lib\\site-packages (from rembg[gpu]) (1.10.0)\n",
      "Collecting uvicorn>=0.20.0\n",
      "  Downloading uvicorn-0.22.0-py3-none-any.whl (58 kB)\n",
      "     ---------------------------------------- 58.3/58.3 kB 3.0 MB/s eta 0:00:00\n",
      "Collecting watchdog>=2.1.9\n",
      "  Downloading watchdog-3.0.0-py3-none-win_amd64.whl (82 kB)\n",
      "     ---------------------------------------- 82.0/82.0 kB 4.5 MB/s eta 0:00:00\n",
      "Collecting click>=8.1.3\n",
      "  Using cached click-8.1.3-py3-none-any.whl (96 kB)\n",
      "Requirement already satisfied: tqdm>=4.64.1 in c:\\users\\kimjeaha\\anaconda3\\lib\\site-packages (from rembg[gpu]) (4.64.1)\n",
      "Collecting onnxruntime-gpu>=1.14.1\n",
      "  Downloading onnxruntime_gpu-1.14.1-cp310-cp310-win_amd64.whl (137.0 MB)\n",
      "     -------------------------------------- 137.0/137.0 MB 6.6 MB/s eta 0:00:00\n",
      "Collecting frozenlist>=1.1.1\n",
      "  Using cached frozenlist-1.3.3-cp310-cp310-win_amd64.whl (33 kB)\n",
      "Collecting yarl<2.0,>=1.0\n",
      "  Downloading yarl-1.9.2-cp310-cp310-win_amd64.whl (61 kB)\n",
      "     ---------------------------------------- 61.0/61.0 kB ? eta 0:00:00\n",
      "Requirement already satisfied: attrs>=17.3.0 in c:\\users\\kimjeaha\\anaconda3\\lib\\site-packages (from aiohttp>=3.8.1->rembg[gpu]) (22.1.0)\n",
      "Requirement already satisfied: charset-normalizer<4.0,>=2.0 in c:\\users\\kimjeaha\\anaconda3\\lib\\site-packages (from aiohttp>=3.8.1->rembg[gpu]) (2.0.4)\n",
      "Collecting multidict<7.0,>=4.5\n",
      "  Using cached multidict-6.0.4-cp310-cp310-win_amd64.whl (28 kB)\n",
      "Collecting aiosignal>=1.1.2\n",
      "  Using cached aiosignal-1.3.1-py3-none-any.whl (7.6 kB)\n",
      "Collecting async-timeout<5.0,>=4.0.0a3\n",
      "  Using cached async_timeout-4.0.2-py3-none-any.whl (5.8 kB)\n",
      "Requirement already satisfied: anyio<4.0.0,>=3.4.0 in c:\\users\\kimjeaha\\anaconda3\\lib\\site-packages (from asyncer>=0.0.2->rembg[gpu]) (3.5.0)\n",
      "Requirement already satisfied: colorama in c:\\users\\kimjeaha\\anaconda3\\lib\\site-packages (from click>=8.1.3->rembg[gpu]) (0.4.6)\n",
      "Collecting pydantic!=1.7,!=1.7.1,!=1.7.2,!=1.7.3,!=1.8,!=1.8.1,<2.0.0,>=1.6.2\n",
      "  Downloading pydantic-1.10.7-cp310-cp310-win_amd64.whl (2.1 MB)\n",
      "     ---------------------------------------- 2.1/2.1 MB 11.3 MB/s eta 0:00:00\n",
      "Collecting starlette<0.28.0,>=0.27.0\n",
      "  Downloading starlette-0.27.0-py3-none-any.whl (66 kB)\n",
      "     ---------------------------------------- 67.0/67.0 kB 3.8 MB/s eta 0:00:00\n",
      "Requirement already satisfied: PyWavelets in c:\\users\\kimjeaha\\anaconda3\\lib\\site-packages (from imagehash>=4.3.1->rembg[gpu]) (1.4.1)\n",
      "Collecting coloredlogs\n",
      "  Downloading coloredlogs-15.0.1-py2.py3-none-any.whl (46 kB)\n",
      "     ---------------------------------------- 46.0/46.0 kB 2.2 MB/s eta 0:00:00\n",
      "Collecting flatbuffers\n",
      "  Downloading flatbuffers-23.5.9-py2.py3-none-any.whl (26 kB)\n",
      "Requirement already satisfied: packaging in c:\\users\\kimjeaha\\anaconda3\\lib\\site-packages (from onnxruntime>=1.14.1->rembg[gpu]) (22.0)\n",
      "Requirement already satisfied: sympy in c:\\users\\kimjeaha\\anaconda3\\lib\\site-packages (from onnxruntime>=1.14.1->rembg[gpu]) (1.11.1)\n",
      "Collecting protobuf\n",
      "  Downloading protobuf-4.23.1-cp310-abi3-win_amd64.whl (422 kB)\n",
      "     -------------------------------------- 422.5/422.5 kB 8.8 MB/s eta 0:00:00\n",
      "Requirement already satisfied: platformdirs>=2.5.0 in c:\\users\\kimjeaha\\anaconda3\\lib\\site-packages (from pooch>=1.6.0->rembg[gpu]) (2.5.2)\n",
      "Requirement already satisfied: requests>=2.19.0 in c:\\users\\kimjeaha\\anaconda3\\lib\\site-packages (from pooch>=1.6.0->rembg[gpu]) (2.28.1)\n",
      "Requirement already satisfied: numba!=0.49.0 in c:\\users\\kimjeaha\\anaconda3\\lib\\site-packages (from pymatting>=1.1.8->rembg[gpu]) (0.56.4)\n",
      "Requirement already satisfied: tifffile>=2019.7.26 in c:\\users\\kimjeaha\\anaconda3\\lib\\site-packages (from scikit-image>=0.19.3->rembg[gpu]) (2021.7.2)\n",
      "Requirement already satisfied: imageio>=2.4.1 in c:\\users\\kimjeaha\\anaconda3\\lib\\site-packages (from scikit-image>=0.19.3->rembg[gpu]) (2.26.0)\n",
      "Requirement already satisfied: networkx>=2.2 in c:\\users\\kimjeaha\\anaconda3\\lib\\site-packages (from scikit-image>=0.19.3->rembg[gpu]) (2.8.4)\n",
      "Collecting h11>=0.8\n",
      "  Downloading h11-0.14.0-py3-none-any.whl (58 kB)\n",
      "     ---------------------------------------- 58.3/58.3 kB ? eta 0:00:00\n",
      "Requirement already satisfied: idna>=2.8 in c:\\users\\kimjeaha\\anaconda3\\lib\\site-packages (from anyio<4.0.0,>=3.4.0->asyncer>=0.0.2->rembg[gpu]) (3.4)\n",
      "Requirement already satisfied: sniffio>=1.1 in c:\\users\\kimjeaha\\anaconda3\\lib\\site-packages (from anyio<4.0.0,>=3.4.0->asyncer>=0.0.2->rembg[gpu]) (1.2.0)\n",
      "Requirement already satisfied: setuptools in c:\\users\\kimjeaha\\anaconda3\\lib\\site-packages (from numba!=0.49.0->pymatting>=1.1.8->rembg[gpu]) (65.6.3)\n",
      "Requirement already satisfied: llvmlite<0.40,>=0.39.0dev0 in c:\\users\\kimjeaha\\anaconda3\\lib\\site-packages (from numba!=0.49.0->pymatting>=1.1.8->rembg[gpu]) (0.39.1)\n",
      "Requirement already satisfied: typing-extensions>=4.2.0 in c:\\users\\kimjeaha\\anaconda3\\lib\\site-packages (from pydantic!=1.7,!=1.7.1,!=1.7.2,!=1.7.3,!=1.8,!=1.8.1,<2.0.0,>=1.6.2->fastapi>=0.92.0->rembg[gpu]) (4.4.0)\n",
      "Requirement already satisfied: urllib3<1.27,>=1.21.1 in c:\\users\\kimjeaha\\anaconda3\\lib\\site-packages (from requests>=2.19.0->pooch>=1.6.0->rembg[gpu]) (1.26.14)\n",
      "Requirement already satisfied: certifi>=2017.4.17 in c:\\users\\kimjeaha\\anaconda3\\lib\\site-packages (from requests>=2.19.0->pooch>=1.6.0->rembg[gpu]) (2022.12.7)\n",
      "Collecting humanfriendly>=9.1\n",
      "  Downloading humanfriendly-10.0-py2.py3-none-any.whl (86 kB)\n",
      "     ---------------------------------------- 86.8/86.8 kB ? eta 0:00:00\n",
      "Requirement already satisfied: mpmath>=0.19 in c:\\users\\kimjeaha\\anaconda3\\lib\\site-packages (from sympy->onnxruntime>=1.14.1->rembg[gpu]) (1.2.1)\n",
      "Collecting pyreadline3\n",
      "  Downloading pyreadline3-3.4.1-py3-none-any.whl (95 kB)\n",
      "     ---------------------------------------- 95.2/95.2 kB 5.7 MB/s eta 0:00:00\n",
      "Installing collected packages: pyreadline3, flatbuffers, filetype, watchdog, python-multipart, pydantic, protobuf, opencv-python-headless, multidict, humanfriendly, h11, frozenlist, click, async-timeout, yarl, uvicorn, starlette, pymatting, pooch, imagehash, coloredlogs, asyncer, aiosignal, onnxruntime-gpu, onnxruntime, fastapi, aiohttp, rembg\n",
      "  Attempting uninstall: watchdog\n",
      "    Found existing installation: watchdog 2.1.6\n",
      "    Uninstalling watchdog-2.1.6:\n",
      "      Successfully uninstalled watchdog-2.1.6\n",
      "  Attempting uninstall: click\n",
      "    Found existing installation: click 8.0.4\n",
      "    Uninstalling click-8.0.4:\n",
      "      Successfully uninstalled click-8.0.4\n",
      "  Attempting uninstall: pooch\n",
      "    Found existing installation: pooch 1.4.0\n",
      "    Uninstalling pooch-1.4.0:\n",
      "      Successfully uninstalled pooch-1.4.0\n",
      "Successfully installed aiohttp-3.8.4 aiosignal-1.3.1 async-timeout-4.0.2 asyncer-0.0.2 click-8.1.3 coloredlogs-15.0.1 fastapi-0.95.2 filetype-1.2.0 flatbuffers-23.5.9 frozenlist-1.3.3 h11-0.14.0 humanfriendly-10.0 imagehash-4.3.1 multidict-6.0.4 onnxruntime-1.14.1 onnxruntime-gpu-1.14.1 opencv-python-headless-4.7.0.72 pooch-1.7.0 protobuf-4.23.1 pydantic-1.10.7 pymatting-1.1.8 pyreadline3-3.4.1 python-multipart-0.0.6 rembg-2.0.37 starlette-0.27.0 uvicorn-0.22.0 watchdog-3.0.0 yarl-1.9.2\n"
     ]
    }
   ],
   "source": [
    "!pip install rembg[gpu]"
   ]
  },
  {
   "cell_type": "code",
   "execution_count": 40,
   "id": "4c66fe44",
   "metadata": {},
   "outputs": [],
   "source": [
    "from rembg import remove, new_session\n",
    "from PIL import Image\n",
    "import os\n",
    "from tqdm import tqdm\n",
    "from IPython.display import display"
   ]
  },
  {
   "cell_type": "code",
   "execution_count": 43,
   "id": "730b20e1",
   "metadata": {},
   "outputs": [],
   "source": [
    "session = new_session(\"isnet-general-use\")\n",
    "\n",
    "background_fill_colors = list()\n",
    "# xterm colors\n",
    "background_fill_colors.append((0,0,0,255))\n",
    "background_fill_colors.append((192,192,192,255))\n",
    "for i in range(7):\n",
    "    background_fill_colors.append((0 if i&1 else 128,0 if i&2 else 128,0 if i&4 else 128,255))\n",
    "    background_fill_colors.append((0 if i&1 else 255,0 if i&2 else 255,0 if i&4 else 255,255))"
   ]
  },
  {
   "cell_type": "code",
   "execution_count": 75,
   "id": "63046b34",
   "metadata": {},
   "outputs": [],
   "source": [
    "def remove_background(source_root, output_root, item_seq):\n",
    "    item_seq_imgs = os.listdir(os.path.join(source_root, item_seq))\n",
    "    process_imgs = [item_seq_imgs[0], item_seq_imgs[-1]]\n",
    "    output_path = os.path.join(output_root, item_seq)\n",
    "    for fb_index, image_path in enumerate(process_imgs):\n",
    "        image_name, image_ext = os.path.splitext(image_path)\n",
    "        image = Image.open(os.path.join(source_root, item_seq, image_path))\n",
    "        for index, value in tqdm(enumerate(background_fill_colors)): # 각 색상당\n",
    "            bg_removed_image = remove(image, bgcolor=value)\n",
    "            width, height = bg_removed_image.size\n",
    "            cropped_image = bg_removed_image.crop(\n",
    "                ((width-1500) // 2, \n",
    "                 (height-1500)//2, \n",
    "                 (width+1500)//2,\n",
    "                 (height+1500)//2)\n",
    "            )\n",
    "#             display(bg_removed_image)\n",
    "            for rot in range(0, 360, 18): # 20장의 샘플 이미지 생성\n",
    "                rotated_image = cropped_image.rotate(angle=rot, fillcolor=value).resize((224,224))\n",
    "                if not os.path.exists(output_path):\n",
    "                    os.makedirs(output_path, exist_ok=True)\n",
    "                rotated_image.convert('RGB').save(\n",
    "                    os.path.join(\n",
    "                        output_path,\n",
    "                        f'{item_seq}_{fb_index}_c{index:02d}_r{rot:03d}{image_ext}'))"
   ]
  },
  {
   "cell_type": "code",
   "execution_count": 77,
   "id": "d6317660",
   "metadata": {
    "scrolled": true
   },
   "outputs": [
    {
     "name": "stderr",
     "output_type": "stream",
     "text": [
      "  0%|                                                                                         | 0/5088 [00:01<?, ?it/s]\n"
     ]
    },
    {
     "ename": "KeyboardInterrupt",
     "evalue": "",
     "output_type": "error",
     "traceback": [
      "\u001b[1;31m---------------------------------------------------------------------------\u001b[0m",
      "\u001b[1;31mKeyboardInterrupt\u001b[0m                         Traceback (most recent call last)",
      "Cell \u001b[1;32mIn[77], line 7\u001b[0m\n\u001b[0;32m      5\u001b[0m item_seqs \u001b[38;5;241m=\u001b[39m [ x \u001b[38;5;28;01mfor\u001b[39;00m x \u001b[38;5;129;01min\u001b[39;00m os\u001b[38;5;241m.\u001b[39mlistdir(source_root) \u001b[38;5;28;01mif\u001b[39;00m os\u001b[38;5;241m.\u001b[39mpath\u001b[38;5;241m.\u001b[39misdir(os\u001b[38;5;241m.\u001b[39mpath\u001b[38;5;241m.\u001b[39mjoin(source_root, x)) ]\n\u001b[0;32m      6\u001b[0m \u001b[38;5;28;01mfor\u001b[39;00m item_seq \u001b[38;5;129;01min\u001b[39;00m tqdm(item_seqs):\n\u001b[1;32m----> 7\u001b[0m     \u001b[43mremove_background\u001b[49m\u001b[43m(\u001b[49m\u001b[43msource_root\u001b[49m\u001b[43m,\u001b[49m\u001b[43m \u001b[49m\u001b[43moutput_root\u001b[49m\u001b[43m,\u001b[49m\u001b[43m \u001b[49m\u001b[43mitem_seq\u001b[49m\u001b[43m)\u001b[49m\n",
      "Cell \u001b[1;32mIn[75], line 22\u001b[0m, in \u001b[0;36mremove_background\u001b[1;34m(source_root, output_root, item_seq)\u001b[0m\n\u001b[0;32m     20\u001b[0m \u001b[38;5;28;01mif\u001b[39;00m \u001b[38;5;129;01mnot\u001b[39;00m os\u001b[38;5;241m.\u001b[39mpath\u001b[38;5;241m.\u001b[39mexists(output_path):\n\u001b[0;32m     21\u001b[0m     os\u001b[38;5;241m.\u001b[39mmakedirs(output_path, exist_ok\u001b[38;5;241m=\u001b[39m\u001b[38;5;28;01mTrue\u001b[39;00m)\n\u001b[1;32m---> 22\u001b[0m \u001b[43mrotated_image\u001b[49m\u001b[38;5;241;43m.\u001b[39;49m\u001b[43mconvert\u001b[49m\u001b[43m(\u001b[49m\u001b[38;5;124;43m'\u001b[39;49m\u001b[38;5;124;43mRGB\u001b[39;49m\u001b[38;5;124;43m'\u001b[39;49m\u001b[43m)\u001b[49m\u001b[38;5;241;43m.\u001b[39;49m\u001b[43msave\u001b[49m\u001b[43m(\u001b[49m\n\u001b[0;32m     23\u001b[0m \u001b[43m    \u001b[49m\u001b[43mos\u001b[49m\u001b[38;5;241;43m.\u001b[39;49m\u001b[43mpath\u001b[49m\u001b[38;5;241;43m.\u001b[39;49m\u001b[43mjoin\u001b[49m\u001b[43m(\u001b[49m\n\u001b[0;32m     24\u001b[0m \u001b[43m        \u001b[49m\u001b[43moutput_path\u001b[49m\u001b[43m,\u001b[49m\n\u001b[0;32m     25\u001b[0m \u001b[43m        \u001b[49m\u001b[38;5;124;43mf\u001b[39;49m\u001b[38;5;124;43m'\u001b[39;49m\u001b[38;5;132;43;01m{\u001b[39;49;00m\u001b[43mitem_seq\u001b[49m\u001b[38;5;132;43;01m}\u001b[39;49;00m\u001b[38;5;124;43m_\u001b[39;49m\u001b[38;5;132;43;01m{\u001b[39;49;00m\u001b[43mfb_index\u001b[49m\u001b[38;5;132;43;01m}\u001b[39;49;00m\u001b[38;5;124;43m_c\u001b[39;49m\u001b[38;5;132;43;01m{\u001b[39;49;00m\u001b[43mindex\u001b[49m\u001b[38;5;132;43;01m:\u001b[39;49;00m\u001b[38;5;124;43m02d\u001b[39;49m\u001b[38;5;132;43;01m}\u001b[39;49;00m\u001b[38;5;124;43m_r\u001b[39;49m\u001b[38;5;132;43;01m{\u001b[39;49;00m\u001b[43mrot\u001b[49m\u001b[38;5;132;43;01m:\u001b[39;49;00m\u001b[38;5;124;43m03d\u001b[39;49m\u001b[38;5;132;43;01m}\u001b[39;49;00m\u001b[38;5;132;43;01m{\u001b[39;49;00m\u001b[43mimage_ext\u001b[49m\u001b[38;5;132;43;01m}\u001b[39;49;00m\u001b[38;5;124;43m'\u001b[39;49m\u001b[43m)\u001b[49m\u001b[43m)\u001b[49m\n",
      "File \u001b[1;32m~\\anaconda3\\lib\\site-packages\\PIL\\Image.py:2442\u001b[0m, in \u001b[0;36mImage.save\u001b[1;34m(self, fp, format, **params)\u001b[0m\n\u001b[0;32m   2440\u001b[0m     \u001b[38;5;28;01mraise\u001b[39;00m\n\u001b[0;32m   2441\u001b[0m \u001b[38;5;28;01mif\u001b[39;00m open_fp:\n\u001b[1;32m-> 2442\u001b[0m     \u001b[43mfp\u001b[49m\u001b[38;5;241;43m.\u001b[39;49m\u001b[43mclose\u001b[49m\u001b[43m(\u001b[49m\u001b[43m)\u001b[49m\n",
      "\u001b[1;31mKeyboardInterrupt\u001b[0m: "
     ]
    }
   ],
   "source": [
    "source_root = 'e:\\\\pill_image'\n",
    "output_root = 'e:\\\\pill_image_augmented'\n",
    "if not os.path.exists(output_root):\n",
    "    os.makedirs(output_root, exist_ok=True)\n",
    "item_seqs = [ x for x in os.listdir(source_root) if os.path.isdir(os.path.join(source_root, x)) ]\n",
    "for item_seq in tqdm(item_seqs):\n",
    "    remove_background(source_root, output_root, item_seq)\n"
   ]
  },
  {
   "cell_type": "code",
   "execution_count": 29,
   "id": "35f130d4",
   "metadata": {},
   "outputs": [
    {
     "data": {
      "text/plain": [
       "'/a\\\\b/d\\\\c'"
      ]
     },
     "execution_count": 29,
     "metadata": {},
     "output_type": "execute_result"
    }
   ],
   "source": [
    "os.path.join('/a', 'b/d','c')"
   ]
  }
 ],
 "metadata": {
  "kernelspec": {
   "display_name": "Python 3 (ipykernel)",
   "language": "python",
   "name": "python3"
  },
  "language_info": {
   "codemirror_mode": {
    "name": "ipython",
    "version": 3
   },
   "file_extension": ".py",
   "mimetype": "text/x-python",
   "name": "python",
   "nbconvert_exporter": "python",
   "pygments_lexer": "ipython3",
   "version": "3.10.9"
  }
 },
 "nbformat": 4,
 "nbformat_minor": 5
}
